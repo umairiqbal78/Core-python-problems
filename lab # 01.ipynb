{
 "cells": [
  {
   "cell_type": "code",
   "execution_count": 1,
   "metadata": {},
   "outputs": [
    {
     "name": "stdout",
     "output_type": "stream",
     "text": [
      "Enter radius of a circle:4\n",
      "50.24\n"
     ]
    }
   ],
   "source": [
    "#Write a program to print the area of a circle\n",
    "r = int(input(\"Enter radius of a circle:\"))\n",
    "area = 3.14 * r**2\n",
    "print(area)"
   ]
  },
  {
   "cell_type": "code",
   "execution_count": 2,
   "metadata": {},
   "outputs": [
    {
     "name": "stdout",
     "output_type": "stream",
     "text": [
      "Enter a Breadth of a triangle:20\n",
      "Enter a Height of a triangle:10\n",
      "100.0\n"
     ]
    }
   ],
   "source": [
    "#Write a program to print the area of a triangle\n",
    "breadth = int(input(\"Enter a Breadth of a triangle:\"))\n",
    "Height = int(input(\"Enter a Height of a triangle:\"))\n",
    "area = 0.5 * breadth * Height\n",
    "print(area)"
   ]
  },
  {
   "cell_type": "code",
   "execution_count": 6,
   "metadata": {},
   "outputs": [
    {
     "name": "stdout",
     "output_type": "stream",
     "text": [
      "Enter a number:3\n",
      "square of a number 9 cube of a number 27 \n"
     ]
    }
   ],
   "source": [
    "#Write a program to accept a number from user and print its square and cube.\n",
    "num = int(input(\"Enter a number:\"))\n",
    "square = num**2\n",
    "cube = num**3\n",
    "print(f\"square of a number {square} cube of a number {cube} \")\n",
    "          "
   ]
  },
  {
   "cell_type": "code",
   "execution_count": 27,
   "metadata": {},
   "outputs": [
    {
     "name": "stdout",
     "output_type": "stream",
     "text": [
      "enter value of x:4\n",
      "enter value of y:4\n",
      "8.989358246623382\n"
     ]
    }
   ],
   "source": [
    "#Convert the following expression into programming language\n",
    "\n",
    "# 1) 1/2 x^2 + sin(x+y)\n",
    "x = int(input(\"enter value of x:\"))\n",
    "y = int(input(\"enter value of y:\"))\n",
    "\n",
    "# we have to import math module to use sin function\n",
    "from math import sin\n",
    "\n",
    "a = 1/2 * x**2 + sin(x+y)\n",
    "print(a)"
   ]
  },
  {
   "cell_type": "code",
   "execution_count": 34,
   "metadata": {},
   "outputs": [
    {
     "name": "stdout",
     "output_type": "stream",
     "text": [
      "Enter x:2\n",
      "Enter y:2\n",
      "2.8284271247461903\n"
     ]
    }
   ],
   "source": [
    "# 2) (x^2 + y^2)^1/2\n",
    "\n",
    "x = int(input(\"Enter x:\"))\n",
    "y = int(input(\"Enter y:\"))\n",
    "\n",
    "from math import sqrt\n",
    "\n",
    "a = sqrt((x**2) + (y**2))\n",
    "print(a)"
   ]
  },
  {
   "cell_type": "code",
   "execution_count": 36,
   "metadata": {},
   "outputs": [
    {
     "name": "stdout",
     "output_type": "stream",
     "text": [
      "enter a:2\n",
      "enter b:2\n",
      "37\n"
     ]
    }
   ],
   "source": [
    "# 3) 2 + 2ab + 3^3\n",
    "\n",
    "a = int(input(\"enter a:\"))\n",
    "b = int(input(\"enter b:\"))\n",
    "z = 2 + 2*a*b + 3**3\n",
    "print(z)"
   ]
  },
  {
   "cell_type": "code",
   "execution_count": 37,
   "metadata": {},
   "outputs": [
    {
     "name": "stdout",
     "output_type": "stream",
     "text": [
      "1\n"
     ]
    }
   ],
   "source": [
    "# 4) -2^3 + 9\n",
    "\n",
    "a = (-2)**3 + 9\n",
    "print(a)"
   ]
  },
  {
   "cell_type": "code",
   "execution_count": 41,
   "metadata": {},
   "outputs": [
    {
     "name": "stdout",
     "output_type": "stream",
     "text": [
      "2.0\n"
     ]
    }
   ],
   "source": [
    "# 5) 3*2/3\n",
    "\n",
    "a = 3*2/3\n",
    "print(a)"
   ]
  },
  {
   "cell_type": "code",
   "execution_count": 42,
   "metadata": {},
   "outputs": [
    {
     "name": "stdout",
     "output_type": "stream",
     "text": [
      "4134.444444444444\n"
     ]
    }
   ],
   "source": [
    "# 6) (2/3^2 * 5) * (3-4^3)^2\n",
    "\n",
    "a = (2/(3**2) * 5) * ((3-(4**3))**2)\n",
    "print(a)"
   ]
  },
  {
   "cell_type": "code",
   "execution_count": 43,
   "metadata": {},
   "outputs": [
    {
     "name": "stdout",
     "output_type": "stream",
     "text": [
      "-123\n"
     ]
    }
   ],
   "source": [
    "# 7) 3*(3 * 4 - 2 * 5^2 - 3)\n",
    "a = 3*(3 * 4 - 2 * 5**2 - 3)\n",
    "print(a)"
   ]
  },
  {
   "cell_type": "code",
   "execution_count": null,
   "metadata": {},
   "outputs": [],
   "source": []
  }
 ],
 "metadata": {
  "kernelspec": {
   "display_name": "Python 3",
   "language": "python",
   "name": "python3"
  },
  "language_info": {
   "codemirror_mode": {
    "name": "ipython",
    "version": 3
   },
   "file_extension": ".py",
   "mimetype": "text/x-python",
   "name": "python",
   "nbconvert_exporter": "python",
   "pygments_lexer": "ipython3",
   "version": "3.7.3"
  }
 },
 "nbformat": 4,
 "nbformat_minor": 2
}
