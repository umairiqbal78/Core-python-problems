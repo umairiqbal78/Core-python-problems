{
 "cells": [
  {
   "cell_type": "code",
   "execution_count": 1,
   "metadata": {},
   "outputs": [
    {
     "name": "stdout",
     "output_type": "stream",
     "text": [
      "Enter radius of a circle:4\n",
      "50.24\n"
     ]
    }
   ],
   "source": [
    "#Write a program to print the area of a circle\n",
    "r = int(input(\"Enter radius of a circle:\"))\n",
    "area = 3.14 * r**2\n",
    "print(area)"
   ]
  },
  {
   "cell_type": "code",
   "execution_count": 2,
   "metadata": {},
   "outputs": [
    {
     "name": "stdout",
     "output_type": "stream",
     "text": [
      "Enter a Breadth of a triangle:20\n",
      "Enter a Height of a triangle:10\n",
      "100.0\n"
     ]
    }
   ],
   "source": [
    "#Write a program to print the area of a triangle\n",
    "breadth = int(input(\"Enter a Breadth of a triangle:\"))\n",
    "Height = int(input(\"Enter a Height of a triangle:\"))\n",
    "area = 0.5 * breadth * Height\n",
    "print(area)"
   ]
  },
  {
   "cell_type": "code",
   "execution_count": 6,
   "metadata": {},
   "outputs": [
    {
     "name": "stdout",
     "output_type": "stream",
     "text": [
      "Enter a number:3\n",
      "square of a number 9 cube of a number 27 \n"
     ]
    }
   ],
   "source": [
    "#Write a program to accept a number from user and print its square and cube.\n",
    "num = int(input(\"Enter a number:\"))\n",
    "square = num**2\n",
    "cube = num**3\n",
    "print(f\"square of a number {square} cube of a number {cube} \")\n",
    "          "
   ]
  },
  {
   "cell_type": "code",
   "execution_count": 27,
   "metadata": {},
   "outputs": [
    {
     "name": "stdout",
     "output_type": "stream",
     "text": [
      "enter value of x:4\n",
      "enter value of y:4\n",
      "8.989358246623382\n"
     ]
    }
   ],
   "source": [
    "#Convert the following expression into programming language\n",
    "\n",
    "# 1) 1/2 x^2 + sin(x+y)\n",
    "x = int(input(\"enter value of x:\"))\n",
    "y = int(input(\"enter value of y:\"))\n",
    "\n",
    "# we have to import math module to use sin function\n",
    "from math import sin\n",
    "\n",
    "a = 1/2 * x**2 + sin(x+y)\n",
    "print(a)"
   ]
  },
  {
   "cell_type": "code",
   "execution_count": 34,
   "metadata": {},
   "outputs": [
    {
     "name": "stdout",
     "output_type": "stream",
     "text": [
      "Enter x:2\n",
      "Enter y:2\n",
      "2.8284271247461903\n"
     ]
    }
   ],
   "source": [
    "# 2) (x^2 + y^2)^1/2\n",
    "\n",
    "x = int(input(\"Enter x:\"))\n",
    "y = int(input(\"Enter y:\"))\n",
    "\n",
    "from math import sqrt\n",
    "\n",
    "a = sqrt((x**2) + (y**2))\n",
    "print(a)"
   ]
  },
  {
   "cell_type": "code",
   "execution_count": 36,
   "metadata": {},
   "outputs": [
    {
     "name": "stdout",
     "output_type": "stream",
     "text": [
      "enter a:2\n",
      "enter b:2\n",
      "37\n"
     ]
    }
   ],
   "source": [
    "# 3) 2 + 2ab + 3^3\n",
    "\n",
    "a = int(input(\"enter a:\"))\n",
    "b = int(input(\"enter b:\"))\n",
    "z = 2 + 2*a*b + 3**3\n",
    "print(z)"
   ]
  },
  {
   "cell_type": "code",
   "execution_count": 37,
   "metadata": {},
   "outputs": [
    {
     "name": "stdout",
     "output_type": "stream",
     "text": [
      "1\n"
     ]
    }
   ],
   "source": [
    "# 4) -2^3 + 9\n",
    "\n",
    "a = (-2)**3 + 9\n",
    "print(a)"
   ]
  },
  {
   "cell_type": "code",
   "execution_count": 41,
   "metadata": {},
   "outputs": [
    {
     "name": "stdout",
     "output_type": "stream",
     "text": [
      "2.0\n"
     ]
    }
   ],
   "source": [
    "# 5) 3*2/3\n",
    "\n",
    "a = 3*2/3\n",
    "print(a)"
   ]
  },
  {
   "cell_type": "code",
   "execution_count": 42,
   "metadata": {},
   "outputs": [
    {
     "name": "stdout",
     "output_type": "stream",
     "text": [
      "4134.444444444444\n"
     ]
    }
   ],
   "source": [
    "# 6) (2/3^2 * 5) * (3-4^3)^2\n",
    "\n",
    "a = (2/(3**2) * 5) * ((3-(4**3))**2)\n",
    "print(a)"
   ]
  },
  {
   "cell_type": "code",
   "execution_count": 43,
   "metadata": {},
   "outputs": [
    {
     "name": "stdout",
     "output_type": "stream",
     "text": [
      "-123\n"
     ]
    }
   ],
   "source": [
    "# 7) 3*(3 * 4 - 2 * 5^2 - 3)\n",
    "a = 3*(3 * 4 - 2 * 5**2 - 3)\n",
    "print(a)"
   ]
  },
  {
   "cell_type": "code",
   "execution_count": 2,
   "metadata": {},
   "outputs": [
    {
     "name": "stdout",
     "output_type": "stream",
     "text": [
      "X1:2\n",
      "X2:2\n",
      "X3:2\n",
      "the average is 2.0\n"
     ]
    }
   ],
   "source": [
    "# Calculate the following formula\n",
    "# 1) Average\n",
    "\n",
    "x1 = int(input(\"X1:\"))\n",
    "x2 = int(input(\"X2:\"))\n",
    "x3 = int(input(\"X3:\"))\n",
    "avg = (x1 + x2 + x3)/3\n",
    "print(\"the average is\" ,avg)"
   ]
  },
  {
   "cell_type": "code",
   "execution_count": 6,
   "metadata": {},
   "outputs": [
    {
     "name": "stdout",
     "output_type": "stream",
     "text": [
      "X1:2\n",
      "X2:3\n",
      "Y1:4\n",
      "Y2:5\n",
      "Co-ordinate of Mid point is (2.5, 4.5)\n"
     ]
    }
   ],
   "source": [
    "# 2) Mid point of any two points\n",
    "x1 = int(input(\"X1:\"))\n",
    "x2 = int(input(\"X2:\"))\n",
    "y1 = int(input(\"Y1:\"))\n",
    "y2 = int(input(\"Y2:\"))\n",
    "co_x = (x1 + x2)/2\n",
    "co_y = (y1 + y2)/2\n",
    "Mid_point = co_x , co_y\n",
    "print(\"Co-ordinate of Mid point is\" ,Mid_point)"
   ]
  },
  {
   "cell_type": "code",
   "execution_count": 12,
   "metadata": {},
   "outputs": [
    {
     "name": "stdout",
     "output_type": "stream",
     "text": [
      "enter a:1\n",
      "enter b:6\n",
      "enter c:1\n",
      "Ans: -0.1715728752538097 -5.82842712474619\n"
     ]
    }
   ],
   "source": [
    "# 3) Quadratic Formula\n",
    "from math import sqrt\n",
    "a = int(input(\"enter a:\"))\n",
    "b = int(input(\"enter b:\"))\n",
    "c = int(input(\"enter c:\"))\n",
    "x1 = (-b + math.sqrt((b**2) - (4*a*c))) / 2*a\n",
    "x2 = (-b - math.sqrt((b**2) - (4*a*c))) / 2*a\n",
    "print(\"Ans:\", x1, x2)"
   ]
  },
  {
   "cell_type": "code",
   "execution_count": 13,
   "metadata": {},
   "outputs": [
    {
     "name": "stdout",
     "output_type": "stream",
     "text": [
      "X1:5\n",
      "X2:2\n",
      "Y1:4\n",
      "Y2:1\n",
      "1.0\n"
     ]
    }
   ],
   "source": [
    "# 4) Slope formula\n",
    "x1 = int(input(\"X1:\"))\n",
    "x2 = int(input(\"X2:\"))\n",
    "y1 = int(input(\"Y1:\"))\n",
    "y2 = int(input(\"Y2:\"))\n",
    "slope = (y2 - y1)/(x2 - x1)\n",
    "print(slope)"
   ]
  },
  {
   "cell_type": "code",
   "execution_count": 14,
   "metadata": {},
   "outputs": [
    {
     "name": "stdout",
     "output_type": "stream",
     "text": [
      "Enter width:4\n",
      "Enter length:5\n",
      "20\n"
     ]
    }
   ],
   "source": [
    "# Calculate the following areas\n",
    "# 1) Area of Rectangle A=w*l\n",
    "w = int(input(\"Enter width of rectangle:\"))\n",
    "l = int(input(\"Enter length of rectangle:\"))\n",
    "area = w * l\n",
    "print(area)\n"
   ]
  },
  {
   "cell_type": "code",
   "execution_count": 15,
   "metadata": {},
   "outputs": [
    {
     "name": "stdout",
     "output_type": "stream",
     "text": [
      "enter breadth of parallelogram:4\n",
      "enter height of parallelogram:5\n",
      "20\n"
     ]
    }
   ],
   "source": [
    "# 2) Area of parallelogram A = b*h\n",
    "b = int(input(\"enter breadth of parallelogram:\"))\n",
    "h = int(input(\"enter height of parallelogram:\"))\n",
    "area = b*h\n",
    "print(area)"
   ]
  },
  {
   "cell_type": "code",
   "execution_count": 17,
   "metadata": {},
   "outputs": [
    {
     "name": "stdout",
     "output_type": "stream",
     "text": [
      "enter radius of circle:1\n",
      "6.283185307179586\n"
     ]
    }
   ],
   "source": [
    "# 3) circumference of a Circle = 2πr\n",
    "\n",
    "r = int(input(\"enter radius of circle:\"))\n",
    "c = 2 * math.pi *r\n",
    "print(c)"
   ]
  },
  {
   "cell_type": "code",
   "execution_count": 19,
   "metadata": {},
   "outputs": [
    {
     "name": "stdout",
     "output_type": "stream",
     "text": [
      "Enter width:10\n",
      "Enter length:15\n",
      "parameter of bedroom is: 50\n"
     ]
    }
   ],
   "source": [
    "# Find the parameter of the bedroom\n",
    "# P = 2(l+w) is the formula for the parameter of rectangle \n",
    "\n",
    "w = int(input(\"Enter width:\"))\n",
    "l = int(input(\"Enter length:\"))\n",
    "parameter = 2 * (l+w)\n",
    "print(\"parameter of bedroom is:\", parameter)"
   ]
  },
  {
   "cell_type": "code",
   "execution_count": null,
   "metadata": {},
   "outputs": [],
   "source": []
  }
 ],
 "metadata": {
  "kernelspec": {
   "display_name": "Python 3",
   "language": "python",
   "name": "python3"
  },
  "language_info": {
   "codemirror_mode": {
    "name": "ipython",
    "version": 3
   },
   "file_extension": ".py",
   "mimetype": "text/x-python",
   "name": "python",
   "nbconvert_exporter": "python",
   "pygments_lexer": "ipython3",
   "version": "3.7.3"
  }
 },
 "nbformat": 4,
 "nbformat_minor": 2
}
