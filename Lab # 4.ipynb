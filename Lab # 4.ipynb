{
 "cells": [
  {
   "cell_type": "code",
   "execution_count": 2,
   "metadata": {},
   "outputs": [
    {
     "name": "stdout",
     "output_type": "stream",
     "text": [
      "Enter your age:18\n",
      "You are eligible for voting\n"
     ]
    }
   ],
   "source": [
    "age = int(input(\"Enter your age:\"))\n",
    "if age>=18:\n",
    "    print(\"You are eligible for voting\")\n",
    "else:\n",
    "    print(\"You are not eligible for voting\")"
   ]
  },
  {
   "cell_type": "code",
   "execution_count": null,
   "metadata": {},
   "outputs": [],
   "source": [
    "name = input(\"What is your name:\")\n",
    "obt_marks = int(input(\"Enter obtained marks:\"))\n",
    "t_marks = int(input(\"Enter total marks:\"))\n",
    "Full_fee = int(input(\"What is the full fee:\"))\n",
    "\n",
    "if obt_marks<500:\n",
    "    print(\"No scholarship\")\n",
    "if obt_marks>500:\n",
    "    sch_per = (Full_fee / 100) *(30)\n",
    "    sch_percentile = sch_per / Full_fee * 100\n",
    "    sch = Full_fee - sch_per\n",
    "    print(sch_percentile, \"% is your schoralship\",sch,\"You have to pay now as your fee\")\n"
   ]
  },
  {
   "cell_type": "code",
   "execution_count": null,
   "metadata": {},
   "outputs": [],
   "source": []
  }
 ],
 "metadata": {
  "kernelspec": {
   "display_name": "Python 3",
   "language": "python",
   "name": "python3"
  },
  "language_info": {
   "codemirror_mode": {
    "name": "ipython",
    "version": 3
   },
   "file_extension": ".py",
   "mimetype": "text/x-python",
   "name": "python",
   "nbconvert_exporter": "python",
   "pygments_lexer": "ipython3",
   "version": "3.7.3"
  }
 },
 "nbformat": 4,
 "nbformat_minor": 2
}
