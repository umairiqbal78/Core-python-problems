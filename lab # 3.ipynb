{
 "cells": [
  {
   "cell_type": "code",
   "execution_count": 10,
   "metadata": {},
   "outputs": [
    {
     "name": "stdout",
     "output_type": "stream",
     "text": [
      "Enter a number:5\n",
      "1\n",
      "2\n",
      "3\n",
      "4\n",
      "5\n"
     ]
    }
   ],
   "source": [
    "# Q1: Write a program to print 1 to n numbers using while loop. (n=user input)\n",
    "n = int(input(\"Enter a number:\"))\n",
    "a = 1\n",
    "while a<=n:\n",
    "    print(a)\n",
    "    a = a+1"
   ]
  },
  {
   "cell_type": "code",
   "execution_count": 3,
   "metadata": {},
   "outputs": [
    {
     "name": "stdout",
     "output_type": "stream",
     "text": [
      "Enter a number:10\n",
      "1 is odd\n",
      "2 is even\n",
      "3 is odd\n",
      "4 is even\n",
      "5 is odd\n",
      "6 is even\n",
      "7 is odd\n",
      "8 is even\n",
      "9 is odd\n",
      "10 is even\n"
     ]
    }
   ],
   "source": [
    "# Q2: Write a program to print Even and Odd numbers to a number \"n\"\n",
    "n = int(input(\"Enter a number:\"))\n",
    "a = 0\n",
    "while a<n:\n",
    "    a = a+1\n",
    "    if a%2==0:\n",
    "        print(a,\"is even\")\n",
    "    if a%2!=0:\n",
    "        print(a,\"is odd\")"
   ]
  },
  {
   "cell_type": "code",
   "execution_count": 7,
   "metadata": {},
   "outputs": [
    {
     "name": "stdout",
     "output_type": "stream",
     "text": [
      "Enter a number:10\n",
      "10\n",
      "9\n",
      "8\n",
      "7\n",
      "6\n",
      "5\n",
      "4\n",
      "3\n",
      "2\n",
      "1\n"
     ]
    }
   ],
   "source": [
    "# Q3: Write a program to print all natural numbers in reverse from n to 1\n",
    "n = int(input(\"Enter a number:\"))\n",
    "while n>0:\n",
    "    print(n)\n",
    "    n = n-1"
   ]
  },
  {
   "cell_type": "code",
   "execution_count": 12,
   "metadata": {},
   "outputs": [
    {
     "name": "stdout",
     "output_type": "stream",
     "text": [
      "Enter a number:5\n",
      "the factorial of 5 is 120\n"
     ]
    }
   ],
   "source": [
    "# Q4: Write a program to find factorial of a user\n",
    "n = int(input(\"Enter a number:\"))\n",
    "a = 0\n",
    "b = 1\n",
    "while n>a:\n",
    "    a = a + 1\n",
    "    b = b*a\n",
    "print(\"the factorial of\",n,\"is\",b)"
   ]
  },
  {
   "cell_type": "code",
   "execution_count": null,
   "metadata": {},
   "outputs": [
    {
     "name": "stdout",
     "output_type": "stream",
     "text": [
      "Enter an year:1998\n"
     ]
    }
   ],
   "source": [
    "# Q5: Write a program to check weather the year entered by the user is a leap year or not.\n",
    "n = int(input(\"Enter an year:\"))\n",
    "\n",
    "while n>0:\n",
    "    if n%400==0:\n",
    "        print(\"Yes it is a leap year\")\n",
    "        break\n",
    "    if n%100==0:\n",
    "        print(\"It is not a leap year\")\n",
    "        break\n",
    "    if n%4==0:\n",
    "        print(\"Yes, it is a leap year\")\n",
    "        break"
   ]
  },
  {
   "cell_type": "code",
   "execution_count": null,
   "metadata": {},
   "outputs": [],
   "source": []
  }
 ],
 "metadata": {
  "kernelspec": {
   "display_name": "Python 3",
   "language": "python",
   "name": "python3"
  },
  "language_info": {
   "codemirror_mode": {
    "name": "ipython",
    "version": 3
   },
   "file_extension": ".py",
   "mimetype": "text/x-python",
   "name": "python",
   "nbconvert_exporter": "python",
   "pygments_lexer": "ipython3",
   "version": "3.7.3"
  }
 },
 "nbformat": 4,
 "nbformat_minor": 2
}
