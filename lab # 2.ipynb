{
 "cells": [
  {
   "cell_type": "code",
   "execution_count": 1,
   "metadata": {},
   "outputs": [
    {
     "name": "stdout",
     "output_type": "stream",
     "text": [
      "First number:5\n",
      "Second number:2\n",
      "5 is greater\n"
     ]
    }
   ],
   "source": [
    "# Q1: Write a program to accept two number from user and print largest between them.\n",
    "num1 = int(input(\"First number:\"))\n",
    "num2 = int(input(\"Second number:\"))\n",
    "if num1>num2:\n",
    "    print(num1,\"is greater\")\n",
    "if num2>num1:\n",
    "    print(num2,\"is greater\")"
   ]
  },
  {
   "cell_type": "code",
   "execution_count": 4,
   "metadata": {},
   "outputs": [
    {
     "name": "stdout",
     "output_type": "stream",
     "text": [
      "enter number:-4\n",
      "-4 is negative\n"
     ]
    }
   ],
   "source": [
    "# Q2: Write a program to accept a number and print if the number is positive/negative\n",
    "num = int(input(\"enter number:\"))\n",
    "if num>0:\n",
    "    print(num,\"is positive\")\n",
    "if num<0:\n",
    "    print(num,\"is negative\")"
   ]
  },
  {
   "cell_type": "code",
   "execution_count": 7,
   "metadata": {},
   "outputs": [
    {
     "name": "stdout",
     "output_type": "stream",
     "text": [
      "enter number:101\n",
      "101 is greater than 100\n"
     ]
    }
   ],
   "source": [
    "# Q3: Write a program to accept a number and print if it is >100\n",
    "num = int(input(\"enter number:\"))\n",
    "if num>100:\n",
    "    print(num,\"is greater than 100\")\n",
    "if num<100:\n",
    "    print(num,\"is less than 100\")"
   ]
  },
  {
   "cell_type": "code",
   "execution_count": 11,
   "metadata": {},
   "outputs": [
    {
     "name": "stdout",
     "output_type": "stream",
     "text": [
      "Enter a number:88\n",
      "88 is even\n"
     ]
    }
   ],
   "source": [
    "# Q4: Write a program to accept a number from user and print if it is even and odd\n",
    "num = int(input(\"Enter a number:\"))\n",
    "if num % 2 ==0:\n",
    "    print(num,\"is even\")\n",
    "if num % 2 != 0:\n",
    "    print(num, \"is odd\")"
   ]
  },
  {
   "cell_type": "code",
   "execution_count": 13,
   "metadata": {},
   "outputs": [
    {
     "name": "stdout",
     "output_type": "stream",
     "text": [
      "Enter a number:3\n",
      "3 is not divisible by 5\n"
     ]
    }
   ],
   "source": [
    "# Q5: Write a program to accept a number from user and print if it is divisible by 5\n",
    "num = int(input(\"Enter a number:\"))\n",
    "if num % 5 ==0:\n",
    "    print(num,\"is divisible by 5\")\n",
    "if num % 5 != 0:\n",
    "    print(num, \"is not divisible by 5\")"
   ]
  },
  {
   "cell_type": "code",
   "execution_count": 15,
   "metadata": {},
   "outputs": [
    {
     "name": "stdout",
     "output_type": "stream",
     "text": [
      "Enter a number:49\n",
      "49 is multiple of 7\n"
     ]
    }
   ],
   "source": [
    "# Q5: Write a program to accept a number from user and print if it is multiple of 7\n",
    "num = int(input(\"Enter a number:\"))\n",
    "if num % 7 ==0:\n",
    "    print(num,\"is multiple of 7\")\n",
    "if num % 7 != 0:\n",
    "    print(num, \"is not multiple of 7\")"
   ]
  },
  {
   "cell_type": "code",
   "execution_count": null,
   "metadata": {},
   "outputs": [],
   "source": []
  }
 ],
 "metadata": {
  "kernelspec": {
   "display_name": "Python 3",
   "language": "python",
   "name": "python3"
  },
  "language_info": {
   "codemirror_mode": {
    "name": "ipython",
    "version": 3
   },
   "file_extension": ".py",
   "mimetype": "text/x-python",
   "name": "python",
   "nbconvert_exporter": "python",
   "pygments_lexer": "ipython3",
   "version": "3.7.3"
  }
 },
 "nbformat": 4,
 "nbformat_minor": 2
}
